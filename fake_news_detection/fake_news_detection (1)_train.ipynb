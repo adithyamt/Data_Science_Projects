{
  "nbformat": 4,
  "nbformat_minor": 0,
  "metadata": {
    "accelerator": "GPU",
    "colab": {
      "name": "fake_news_detection.ipynb",
      "provenance": []
    },
    "kernelspec": {
      "display_name": "Python 3",
      "name": "python3"
    }
  },
  "cells": [
    {
      "cell_type": "code",
      "metadata": {
        "id": "tQsKcb5muO4h"
      },
      "source": [
        "import numpy as np\n",
        "import pandas as pd\n",
        "import tensorflow as tf\n",
        "from tensorflow import keras\n",
        "from keras import layers\n",
        "from keras.models import Sequential\n",
        "from keras.layers import Dense,Embedding,LSTM\n",
        "from keras.preprocessing import sequence\n",
        "from keras.preprocessing.text import Tokenizer\n",
        "from keras.preprocessing.sequence import pad_sequences\n",
        "from sklearn.model_selection import train_test_split"
      ],
      "execution_count": null,
      "outputs": []
    },
    {
      "cell_type": "code",
      "metadata": {
        "id": "WOE25gFW6_L4"
      },
      "source": [
        ""
      ],
      "execution_count": null,
      "outputs": []
    },
    {
      "cell_type": "code",
      "metadata": {
        "colab": {
          "base_uri": "https://localhost:8080/",
          "height": 272
        },
        "id": "AlfoUgRd1i7e",
        "outputId": "0fb8a38b-87b6-495d-9723-555929bcf0d6"
      },
      "source": [
        "df=pd.read_csv('/content/news.csv')\n",
        "print(df.shape)\n",
        "df.head(5)"
      ],
      "execution_count": null,
      "outputs": [
        {
          "output_type": "stream",
          "text": [
            "(6335, 4)\n"
          ],
          "name": "stdout"
        },
        {
          "output_type": "execute_result",
          "data": {
            "text/html": [
              "<div>\n",
              "<style scoped>\n",
              "    .dataframe tbody tr th:only-of-type {\n",
              "        vertical-align: middle;\n",
              "    }\n",
              "\n",
              "    .dataframe tbody tr th {\n",
              "        vertical-align: top;\n",
              "    }\n",
              "\n",
              "    .dataframe thead th {\n",
              "        text-align: right;\n",
              "    }\n",
              "</style>\n",
              "<table border=\"1\" class=\"dataframe\">\n",
              "  <thead>\n",
              "    <tr style=\"text-align: right;\">\n",
              "      <th></th>\n",
              "      <th>Unnamed: 0</th>\n",
              "      <th>title</th>\n",
              "      <th>text</th>\n",
              "      <th>label</th>\n",
              "    </tr>\n",
              "  </thead>\n",
              "  <tbody>\n",
              "    <tr>\n",
              "      <th>0</th>\n",
              "      <td>8476</td>\n",
              "      <td>You Can Smell Hillary’s Fear</td>\n",
              "      <td>Daniel Greenfield, a Shillman Journalism Fello...</td>\n",
              "      <td>FAKE</td>\n",
              "    </tr>\n",
              "    <tr>\n",
              "      <th>1</th>\n",
              "      <td>10294</td>\n",
              "      <td>Watch The Exact Moment Paul Ryan Committed Pol...</td>\n",
              "      <td>Google Pinterest Digg Linkedin Reddit Stumbleu...</td>\n",
              "      <td>FAKE</td>\n",
              "    </tr>\n",
              "    <tr>\n",
              "      <th>2</th>\n",
              "      <td>3608</td>\n",
              "      <td>Kerry to go to Paris in gesture of sympathy</td>\n",
              "      <td>U.S. Secretary of State John F. Kerry said Mon...</td>\n",
              "      <td>REAL</td>\n",
              "    </tr>\n",
              "    <tr>\n",
              "      <th>3</th>\n",
              "      <td>10142</td>\n",
              "      <td>Bernie supporters on Twitter erupt in anger ag...</td>\n",
              "      <td>— Kaydee King (@KaydeeKing) November 9, 2016 T...</td>\n",
              "      <td>FAKE</td>\n",
              "    </tr>\n",
              "    <tr>\n",
              "      <th>4</th>\n",
              "      <td>875</td>\n",
              "      <td>The Battle of New York: Why This Primary Matters</td>\n",
              "      <td>It's primary day in New York and front-runners...</td>\n",
              "      <td>REAL</td>\n",
              "    </tr>\n",
              "  </tbody>\n",
              "</table>\n",
              "</div>"
            ],
            "text/plain": [
              "   Unnamed: 0  ... label\n",
              "0        8476  ...  FAKE\n",
              "1       10294  ...  FAKE\n",
              "2        3608  ...  REAL\n",
              "3       10142  ...  FAKE\n",
              "4         875  ...  REAL\n",
              "\n",
              "[5 rows x 4 columns]"
            ]
          },
          "metadata": {
            "tags": []
          },
          "execution_count": 4
        }
      ]
    },
    {
      "cell_type": "code",
      "metadata": {
        "colab": {
          "base_uri": "https://localhost:8080/"
        },
        "id": "8NUrZFrd1i4m",
        "outputId": "25e5d13a-6154-4623-c6bd-3e7095f6e7de"
      },
      "source": [
        "df['title'].unique()"
      ],
      "execution_count": null,
      "outputs": [
        {
          "output_type": "execute_result",
          "data": {
            "text/plain": [
              "array(['You Can Smell Hillary’s Fear',\n",
              "       'Watch The Exact Moment Paul Ryan Committed Political Suicide At A Trump Rally (VIDEO)',\n",
              "       'Kerry to go to Paris in gesture of sympathy', ...,\n",
              "       'Anti-Trump Protesters Are Tools of the Oligarchy     : Information',\n",
              "       'In Ethiopia, Obama seeks progress on peace, security in East Africa',\n",
              "       \"Jeb Bush Is Suddenly Attacking Trump. Here's Why That Matters\"],\n",
              "      dtype=object)"
            ]
          },
          "metadata": {
            "tags": []
          },
          "execution_count": 5
        }
      ]
    },
    {
      "cell_type": "code",
      "metadata": {
        "colab": {
          "base_uri": "https://localhost:8080/"
        },
        "id": "PVyAvwFO1i2P",
        "outputId": "818475e6-667b-4b51-ef02-2daac47add17"
      },
      "source": [
        "df['label'].unique()"
      ],
      "execution_count": null,
      "outputs": [
        {
          "output_type": "execute_result",
          "data": {
            "text/plain": [
              "array(['FAKE', 'REAL'], dtype=object)"
            ]
          },
          "metadata": {
            "tags": []
          },
          "execution_count": 6
        }
      ]
    },
    {
      "cell_type": "code",
      "metadata": {
        "colab": {
          "base_uri": "https://localhost:8080/"
        },
        "id": "eoSee61s1izk",
        "outputId": "94113f5c-4dff-4f01-f449-f1fa3f91f9f5"
      },
      "source": [
        "df.isnull().sum()"
      ],
      "execution_count": null,
      "outputs": [
        {
          "output_type": "execute_result",
          "data": {
            "text/plain": [
              "Unnamed: 0    0\n",
              "title         0\n",
              "text          0\n",
              "label         0\n",
              "dtype: int64"
            ]
          },
          "metadata": {
            "tags": []
          },
          "execution_count": 7
        }
      ]
    },
    {
      "cell_type": "code",
      "metadata": {
        "id": "27Vd18th1iw4"
      },
      "source": [
        "data=df[['text','label']]"
      ],
      "execution_count": null,
      "outputs": []
    },
    {
      "cell_type": "code",
      "metadata": {
        "colab": {
          "base_uri": "https://localhost:8080/",
          "height": 204
        },
        "id": "PQipzysj1iuY",
        "outputId": "f28ff0fc-485f-4ad3-8da9-b76e711f60c0"
      },
      "source": [
        "data.head(5)\n"
      ],
      "execution_count": null,
      "outputs": [
        {
          "output_type": "execute_result",
          "data": {
            "text/html": [
              "<div>\n",
              "<style scoped>\n",
              "    .dataframe tbody tr th:only-of-type {\n",
              "        vertical-align: middle;\n",
              "    }\n",
              "\n",
              "    .dataframe tbody tr th {\n",
              "        vertical-align: top;\n",
              "    }\n",
              "\n",
              "    .dataframe thead th {\n",
              "        text-align: right;\n",
              "    }\n",
              "</style>\n",
              "<table border=\"1\" class=\"dataframe\">\n",
              "  <thead>\n",
              "    <tr style=\"text-align: right;\">\n",
              "      <th></th>\n",
              "      <th>text</th>\n",
              "      <th>label</th>\n",
              "    </tr>\n",
              "  </thead>\n",
              "  <tbody>\n",
              "    <tr>\n",
              "      <th>0</th>\n",
              "      <td>Daniel Greenfield, a Shillman Journalism Fello...</td>\n",
              "      <td>FAKE</td>\n",
              "    </tr>\n",
              "    <tr>\n",
              "      <th>1</th>\n",
              "      <td>Google Pinterest Digg Linkedin Reddit Stumbleu...</td>\n",
              "      <td>FAKE</td>\n",
              "    </tr>\n",
              "    <tr>\n",
              "      <th>2</th>\n",
              "      <td>U.S. Secretary of State John F. Kerry said Mon...</td>\n",
              "      <td>REAL</td>\n",
              "    </tr>\n",
              "    <tr>\n",
              "      <th>3</th>\n",
              "      <td>— Kaydee King (@KaydeeKing) November 9, 2016 T...</td>\n",
              "      <td>FAKE</td>\n",
              "    </tr>\n",
              "    <tr>\n",
              "      <th>4</th>\n",
              "      <td>It's primary day in New York and front-runners...</td>\n",
              "      <td>REAL</td>\n",
              "    </tr>\n",
              "  </tbody>\n",
              "</table>\n",
              "</div>"
            ],
            "text/plain": [
              "                                                text label\n",
              "0  Daniel Greenfield, a Shillman Journalism Fello...  FAKE\n",
              "1  Google Pinterest Digg Linkedin Reddit Stumbleu...  FAKE\n",
              "2  U.S. Secretary of State John F. Kerry said Mon...  REAL\n",
              "3  — Kaydee King (@KaydeeKing) November 9, 2016 T...  FAKE\n",
              "4  It's primary day in New York and front-runners...  REAL"
            ]
          },
          "metadata": {
            "tags": []
          },
          "execution_count": 9
        }
      ]
    },
    {
      "cell_type": "code",
      "metadata": {
        "colab": {
          "base_uri": "https://localhost:8080/",
          "height": 188
        },
        "id": "cnoo8wGX1ira",
        "outputId": "a63456b0-8ca9-473b-c23b-444adb058a07"
      },
      "source": [
        "data['text'].iloc[8]"
      ],
      "execution_count": null,
      "outputs": [
        {
          "output_type": "execute_result",
          "data": {
            "application/vnd.google.colaboratory.intrinsic+json": {
              "type": "string"
            },
            "text/plain": [
              "'Hillary Clinton and Donald Trump made some inaccurate claims during an NBC “commander-in-chief” forum on military and veterans issues:\\n\\n• Clinton wrongly claimed Trump supported the war in Iraq after it started, while Trump was wrong, once again, in saying he was against the war before it started.\\n\\n•\\xa0Trump said that President Obama set a “certain date” for withdrawing troops from Iraq, when that date was set before Obama was sworn in.\\n\\n•\\xa0Trump said that Obama’s visits to China, Saudi Arabia and Cuba were “the first time in the history, the storied history of Air Force One” when “high officials” of a host country did not appear to greet the president. Not true.\\n\\n•\\xa0Clinton said that Trump supports privatizing the Veterans Health Administration. That’s false. Trump said he supports allowing veterans to seek care at either public or private hospitals.\\n\\n•\\xa0Trump said Clinton made “a terrible mistake on Libya” when she was secretary of State. But, at the time, Trump also supported U.S. action that led to the removal of Moammar Gadhafi from power.\\n\\n•\\xa0Trump cherry-picked Clinton’s words when he claimed Clinton said “vets are being treated, essentially, just fine.” Clinton had said the problems in the Department of Veterans Affairs were not as “widespread” as some Republicans claimed, but she went on to acknowledge problems, including the issue of wait times for doctors.\\n\\nThe forum, sponsored by NBC News and the Iraq and Afghanistan Veterans of America, was held Sept. 7 at the Intrepid Sea, Air & Space Museum in New York City. Today\\xa0show host Matt Lauer, and members of the military and veterans in the audience, questioned the candidates separately.\\n\\nTrump said he “was totally against the war in Iraq,” while Clinton claimed that he supported the Iraq War before and after it started. The facts don’t support either candidate’s strong assertions.\\n\\nOur review of Trump’s statements before and after the Iraq War started found no evidence that Trump opposed the war before it started. In fact, he expressed mild support for invading Iraq when asked about it on the Howard Stern radio show on Sept. 11, 2002 — about six months before the war started.\\n\\nStern asked Trump if he supported a war with Iraq, and Trump responded, “Yeah, I guess so.”\\n\\nIn the NBC commander in chief forum, Trump cited an Esquire article that appeared in August 2004 to show his opposition to the war. But that article appeared 17 months after the war started.\\n\\nAs for Clinton, who as a senator voted in October 2002 to authorize the war in Iraq, the Democratic nominee claimed that Trump “supported it before it happened, he supported it as it was happening and he is on record as supporting it after it happened.”\\n\\nBut just as there is no evidence that Trump opposed the Iraq War before it started, the Clinton campaign offered no evidence that Trump supported the war “after it happened.”\\n\\nThe Clinton campaign cited Trump’s interview on March 21, 2003, with Neil Cavuto of Fox Business just two days after the war started.\\n\\nCavuto asked Trump about the impact of the war on the stock market. Trump said the war “looks like a tremendous success from a military standpoint,” and he predicted the market will “go up like a rocket” after the war. But Cavuto does not ask Trump whether the U.S. should have gone to war with Iraq or whether he supports the war, and Trump doesn’t offer an opinion.\\n\\nAs early as July 2003, Trump expressed concern on Hardball with Chris Matthews\\xa0about money being spent in Iraq rather than in the U.S. Two months later, Trump told MSNBC’s Joe Scarborough, “I guess maybe if I had to do it, I would have fought terrorism but not necessarily Iraq.”\\n\\nClinton invited her audience to read Trump’s comments on the Iraq War. They can read our timeline, “Donald Trump and the Iraq War.”\\n\\nTrump said President Obama set a “certain date” for withdrawing troops from Iraq, but that date was actually set by President George W. Bush.\\n\\nNBC’s Matt Lauer asked Trump about his tendency to respond, when pushed for details on his military proposals, that he’s not going to give details because he wants to be “unpredictable.” Trump responded, “Absolutely,” and went on to criticize Obama for revealing the withdrawal date.\\n\\nAs we said then, Republicans and Democrats disagree on whether Obama or Bush is to blame for withdrawing all combat troops from Iraq at the end of 2011. But that date was set when Bush signed the Status of Forces Agreement on Dec. 14, 2008. It said: “All the United States Forces shall withdraw from all Iraqi territory no later than December 31, 2011.”\\n\\nIn the NBC forum, Trump also called the withdrawal of troops “a terrible decision.” As we’ve explained before, Condoleezza Rice, Bush’s secretary of State, later wrote that Bush wanted an agreement for a residual force to remain, but Iraqi Prime Minister Nouri al-Maliki objected.\\n\\nOnce Obama took office in January 2009, he had three years to renegotiate the deal, which his administration tried to do, to leave a residual American troop force. But Maliki still didn’t agree. Negotiations broke down in October 2011 over the issue of whether U.S. troops would be shielded from criminal prosecution by Iraqi authorities. Whether Obama did enough is a matter of opinion: His then defense secretary, Leon Panetta, later wrote that the president didn’t press hard enough for a deal. But some experts say Iraq was more closely aligned at the time with Iran and there wasn’t a deal to be made with Maliki.\\n\\nSo, both presidents had a role in the withdrawal of troops. But Trump wrongly said that Obama was the one who set a “certain date” for withdrawal and let U.S. enemies know about it, when that date was set before Obama was sworn in.\\n\\nIt’s worth noting that Trump said in a March 16, 2007, interview on CNN that the troops should be withdrawn quickly from Iraq.\\n\\nTrump said that Obama’s visits to China, Saudi Arabia and Cuba were “the first time in the history, the storied history of Air Force One” when “high officials” of a host country did not appear to greet the president.\\n\\nThat’s not true. Other presidents have encountered similar low-key greetings on foreign trips aboard the presidential aircraft.\\n\\nTrump referred to the fact that Cuba’s president, Raul Castro, did not greet Obama at the airport on his historic visit to Cuba in March, that Saudi Arabia’s King Salman did not meet Air Force One at the start of Obama’s trip to Riyadh in April, and he referred to China’s handling of the president’s arrival in Hangzhou last Saturday for a Group of 20 meeting.\\n\\nWhether or not those arrivals constituted snubs of a U.S. president as Trump claims is a matter of debate. But Trump is wrong on the facts when he claims it has not happened before. It has.\\n\\nIn 1984, for example, Ronald Reagan landed in Beijing and was received by China’s foreign minister rather than the president, whom he met only later. Similarly, on a 1985 trip to West Germany, Reagan was met by the foreign minister and not Chancellor Helmut Kohl.\\n\\nThese and other examples were dug up by our friend Glenn Kessler, the Washington Post‘s “Fact Checker,” who researched a Trump claim in April that Cuba’s and Saudi Arabia’s handling of Obama’s visits were “without precedent.” Kessler said of Trump, “once again he’s wrong, wrong, wrong.”\\n\\nKessler also noted that during Richard Nixon’s historic 1972 visit to China he was greeted at the airport by the country’s number two man, Premier Zhou Enlai. His boss, Chairman Mao, didn’t even agree to meet with Nixon until after he had arrived at a guest house.\\n\\nClinton said that her plan to overhaul the Veterans Health Administration would not include privatization, which she said Trump supports.\\n\\nBut Trump refuted that statement when it was his turn to discuss his plan to help veterans. “I would not do that,” Trump said, referring to Clinton’s claim that he supports privatization.\\n\\nTrump’s campaign published “The Goals Of Donald J. Trump’s Veterans Plan” on its website last October. It doesn’t call for the VA to be completely privatized.\\n\\nOne of the biggest changes that plan would make to the current VA health care system is allowing veterans to get care at any non-VA medical center that accepts Medicare.\\n\\n“Under a Trump Administration, all veterans eligible for VA health care can bring their veteran’s ID card to any doctor or care facility that accepts Medicare to get the care they need immediately,” the plan states.\\n\\n“The power to choose will stop the wait time backlogs and force the VA to improve and compete if the department wants to keep receiving veterans’ healthcare dollars,” the plan says.\\n\\nTrump’s proposal would seemingly go further than the Non-VA Medical Care Program, which allows eligible veterans to access care outside of the VA under certain circumstances, such as when VA medical centers cannot provide services. The program requires pre-approval for veterans to receive care at a non-VA facility in non-emergency situations.\\n\\nTrump’s proposal would also go further than the bipartisan Veterans Choice Act of 2014 that President Obama signed into law, creating a temporary program, separate from the Non-VA Medical Care Program, that allows eligible veterans to receive health care at a non-VA facility if they would have to wait more than 30 days for an appointment at a VA medical center, or if they live more than 40 miles from the nearest VA hospital.\\n\\nTrump stuck to the idea of allowing veterans to choose between public and private hospitals when he released his most recent “Ten Point Plan To Reform The VA” in July.\\n\\nPoint 10 of the plan says: “Mr. Trump will ensure every veteran has the choice to seek care at the VA or at a private service provider of their own choice. Under a Trump Administration, no veteran will die waiting for service.”\\n\\nTrump reinforced that part of his plan during the NBC News forum as well.\\n\\nTo be clear, Trump supports giving veterans a choice between VA hospitals and private ones. That’s not the same thing as supporting the complete privatization of the system that provides care to veterans.\\n\\nTrump criticized Clinton for making “a terrible mistake on Libya” when she was secretary of State. But, at the time, Trump also supported U.S. action that led to the removal of Moammar Gadhafi from power.\\n\\nTrump made his claim in response to a question posed by Lauer on whether Trump will be “prepared on Day One,” if elected president, to tackle “complex national security issues.”\\n\\nThis isn’t the first time Trump has ignored his past support for the U.S. intervention in Libya.\\n\\nDuring the 10th GOP debate, Trump said he had “never discussed that subject” when Sen. Ted Cruz called him out on supporting U.S. action in the country. But, as we wrote, Trump said in 2011 that the U.S. should go into Libya “on a humanitarian basis” and “knock [Gadhafi] out very quickly, very surgically, very effectively and save the lives.”\\n\\nTrump made that comment in a video posted to his YouTube channel in February 2011:\\n\\nEven though Trump now says Clinton’s support for intervention in Libya was a “terrible mistake,” it doesn’t change the fact that five years ago he supported Gadhafi’s removal.\\n\\nTrump twisted Clinton’s words when he claimed Clinton said “vets are being treated, essentially, just fine.” Clinton said the problems in the Department of Veterans Affairs were not as “widespread” as some Republican supporters of privatization of the VA claim, but she went on to acknowledge problems in the VA system — including the issue of wait times for doctors — and what she would do to address them.\\n\\nTrump highlighted the issue of wait times to see a doctor as “one of the big problems” in the VA, and then suggested Clinton doesn’t think the VA has problems.\\n\\nLauer interrupted, noting that Clinton “went on after that and laid out a litany of problems within the VA.”\\n\\nTrump insisted his version was accurate, adding, “I’m telling you … she said she was satisfied with what was going on in the Veterans Administration.”\\n\\nThat’s not accurate. The comments in question from Clinton came during an interview with MSNBC’s Rachel Maddow on Oct. 23, 2015. Maddow asked about talk among some Republicans of abolishing the VA and privatizing it. “The reason they are able to propose something that radical is because the problems at the VA seem so intractable,” Maddow said.\\n\\nMaddow asked if Clinton had any “new ideas for trying to fix” the VA. Here was Clinton’s response, with the part Trump is referring to in bold.\\n\\nClinton accused Republicans of underfunding the VA because they “want it to fail” so they can privatize it.\\n\\nClinton added, “But we have to be more creative about trying to fix the problems that are the legitimate concern, so that we can try to stymie the Republican assault.”\\n\\nIndeed, the Clinton campaign website states that Clinton wants to “fundamentally reform veterans’ health care to ensure access to timely and high quality care.” The campaign says Clinton “was outraged by the recent scandals at the VA, and as president, she will demand accountability and performance from VA leadership.” The site specifically mentions Clinton’s dissatisfaction that “[m]any veterans have to wait an unacceptably long time to see a doctor or to process disability claims and appeals” and promises she will “[b]uild a 21st-century Department of Veterans Affairs to deliver world-class care.”\\n\\nTrump cherry-picked the part of Clinton’s response that said problems in the VA have “not been as widespread as it has been made out to be,” to make the blanket claim that Clinton is “satisfied with what was going on in the Veterans Administration” and that “vets are being treated, essentially, just fine.” But Trump is leaving out the parts of Clinton’s answer that acknowledged problems in the VA — including the wait time issue Trump highlighted as one of his biggest concerns.'"
            ]
          },
          "metadata": {
            "tags": []
          },
          "execution_count": 10
        }
      ]
    },
    {
      "cell_type": "code",
      "metadata": {
        "colab": {
          "base_uri": "https://localhost:8080/"
        },
        "id": "4tqt8xsX1io8",
        "outputId": "f1ac8948-6b6c-4278-8a7f-5cc6c85a46c5"
      },
      "source": [
        "import re\n",
        "data['text']=data['text'].apply(lambda x:re.sub('[^a-zA-z0-9\\s]','',x))"
      ],
      "execution_count": null,
      "outputs": [
        {
          "output_type": "stream",
          "text": [
            "/usr/local/lib/python3.7/dist-packages/ipykernel_launcher.py:2: SettingWithCopyWarning: \n",
            "A value is trying to be set on a copy of a slice from a DataFrame.\n",
            "Try using .loc[row_indexer,col_indexer] = value instead\n",
            "\n",
            "See the caveats in the documentation: https://pandas.pydata.org/pandas-docs/stable/user_guide/indexing.html#returning-a-view-versus-a-copy\n",
            "  \n"
          ],
          "name": "stderr"
        }
      ]
    },
    {
      "cell_type": "code",
      "metadata": {
        "colab": {
          "base_uri": "https://localhost:8080/",
          "height": 188
        },
        "id": "WvTTtqxQ1ilz",
        "outputId": "468d0563-65b9-4dd4-d681-014b4b343089"
      },
      "source": [
        "data['text'].iloc[8]"
      ],
      "execution_count": null,
      "outputs": [
        {
          "output_type": "execute_result",
          "data": {
            "application/vnd.google.colaboratory.intrinsic+json": {
              "type": "string"
            },
            "text/plain": [
              "'Hillary Clinton and Donald Trump made some inaccurate claims during an NBC commanderinchief forum on military and veterans issues\\n\\n Clinton wrongly claimed Trump supported the war in Iraq after it started while Trump was wrong once again in saying he was against the war before it started\\n\\n\\xa0Trump said that President Obama set a certain date for withdrawing troops from Iraq when that date was set before Obama was sworn in\\n\\n\\xa0Trump said that Obamas visits to China Saudi Arabia and Cuba were the first time in the history the storied history of Air Force One when high officials of a host country did not appear to greet the president Not true\\n\\n\\xa0Clinton said that Trump supports privatizing the Veterans Health Administration Thats false Trump said he supports allowing veterans to seek care at either public or private hospitals\\n\\n\\xa0Trump said Clinton made a terrible mistake on Libya when she was secretary of State But at the time Trump also supported US action that led to the removal of Moammar Gadhafi from power\\n\\n\\xa0Trump cherrypicked Clintons words when he claimed Clinton said vets are being treated essentially just fine Clinton had said the problems in the Department of Veterans Affairs were not as widespread as some Republicans claimed but she went on to acknowledge problems including the issue of wait times for doctors\\n\\nThe forum sponsored by NBC News and the Iraq and Afghanistan Veterans of America was held Sept 7 at the Intrepid Sea Air  Space Museum in New York City Today\\xa0show host Matt Lauer and members of the military and veterans in the audience questioned the candidates separately\\n\\nTrump said he was totally against the war in Iraq while Clinton claimed that he supported the Iraq War before and after it started The facts dont support either candidates strong assertions\\n\\nOur review of Trumps statements before and after the Iraq War started found no evidence that Trump opposed the war before it started In fact he expressed mild support for invading Iraq when asked about it on the Howard Stern radio show on Sept 11 2002  about six months before the war started\\n\\nStern asked Trump if he supported a war with Iraq and Trump responded Yeah I guess so\\n\\nIn the NBC commander in chief forum Trump cited an Esquire article that appeared in August 2004 to show his opposition to the war But that article appeared 17 months after the war started\\n\\nAs for Clinton who as a senator voted in October 2002 to authorize the war in Iraq the Democratic nominee claimed that Trump supported it before it happened he supported it as it was happening and he is on record as supporting it after it happened\\n\\nBut just as there is no evidence that Trump opposed the Iraq War before it started the Clinton campaign offered no evidence that Trump supported the war after it happened\\n\\nThe Clinton campaign cited Trumps interview on March 21 2003 with Neil Cavuto of Fox Business just two days after the war started\\n\\nCavuto asked Trump about the impact of the war on the stock market Trump said the war looks like a tremendous success from a military standpoint and he predicted the market will go up like a rocket after the war But Cavuto does not ask Trump whether the US should have gone to war with Iraq or whether he supports the war and Trump doesnt offer an opinion\\n\\nAs early as July 2003 Trump expressed concern on Hardball with Chris Matthews\\xa0about money being spent in Iraq rather than in the US Two months later Trump told MSNBCs Joe Scarborough I guess maybe if I had to do it I would have fought terrorism but not necessarily Iraq\\n\\nClinton invited her audience to read Trumps comments on the Iraq War They can read our timeline Donald Trump and the Iraq War\\n\\nTrump said President Obama set a certain date for withdrawing troops from Iraq but that date was actually set by President George W Bush\\n\\nNBCs Matt Lauer asked Trump about his tendency to respond when pushed for details on his military proposals that hes not going to give details because he wants to be unpredictable Trump responded Absolutely and went on to criticize Obama for revealing the withdrawal date\\n\\nAs we said then Republicans and Democrats disagree on whether Obama or Bush is to blame for withdrawing all combat troops from Iraq at the end of 2011 But that date was set when Bush signed the Status of Forces Agreement on Dec 14 2008 It said All the United States Forces shall withdraw from all Iraqi territory no later than December 31 2011\\n\\nIn the NBC forum Trump also called the withdrawal of troops a terrible decision As weve explained before Condoleezza Rice Bushs secretary of State later wrote that Bush wanted an agreement for a residual force to remain but Iraqi Prime Minister Nouri alMaliki objected\\n\\nOnce Obama took office in January 2009 he had three years to renegotiate the deal which his administration tried to do to leave a residual American troop force But Maliki still didnt agree Negotiations broke down in October 2011 over the issue of whether US troops would be shielded from criminal prosecution by Iraqi authorities Whether Obama did enough is a matter of opinion His then defense secretary Leon Panetta later wrote that the president didnt press hard enough for a deal But some experts say Iraq was more closely aligned at the time with Iran and there wasnt a deal to be made with Maliki\\n\\nSo both presidents had a role in the withdrawal of troops But Trump wrongly said that Obama was the one who set a certain date for withdrawal and let US enemies know about it when that date was set before Obama was sworn in\\n\\nIts worth noting that Trump said in a March 16 2007 interview on CNN that the troops should be withdrawn quickly from Iraq\\n\\nTrump said that Obamas visits to China Saudi Arabia and Cuba were the first time in the history the storied history of Air Force One when high officials of a host country did not appear to greet the president\\n\\nThats not true Other presidents have encountered similar lowkey greetings on foreign trips aboard the presidential aircraft\\n\\nTrump referred to the fact that Cubas president Raul Castro did not greet Obama at the airport on his historic visit to Cuba in March that Saudi Arabias King Salman did not meet Air Force One at the start of Obamas trip to Riyadh in April and he referred to Chinas handling of the presidents arrival in Hangzhou last Saturday for a Group of 20 meeting\\n\\nWhether or not those arrivals constituted snubs of a US president as Trump claims is a matter of debate But Trump is wrong on the facts when he claims it has not happened before It has\\n\\nIn 1984 for example Ronald Reagan landed in Beijing and was received by Chinas foreign minister rather than the president whom he met only later Similarly on a 1985 trip to West Germany Reagan was met by the foreign minister and not Chancellor Helmut Kohl\\n\\nThese and other examples were dug up by our friend Glenn Kessler the Washington Posts Fact Checker who researched a Trump claim in April that Cubas and Saudi Arabias handling of Obamas visits were without precedent Kessler said of Trump once again hes wrong wrong wrong\\n\\nKessler also noted that during Richard Nixons historic 1972 visit to China he was greeted at the airport by the countrys number two man Premier Zhou Enlai His boss Chairman Mao didnt even agree to meet with Nixon until after he had arrived at a guest house\\n\\nClinton said that her plan to overhaul the Veterans Health Administration would not include privatization which she said Trump supports\\n\\nBut Trump refuted that statement when it was his turn to discuss his plan to help veterans I would not do that Trump said referring to Clintons claim that he supports privatization\\n\\nTrumps campaign published The Goals Of Donald J Trumps Veterans Plan on its website last October It doesnt call for the VA to be completely privatized\\n\\nOne of the biggest changes that plan would make to the current VA health care system is allowing veterans to get care at any nonVA medical center that accepts Medicare\\n\\nUnder a Trump Administration all veterans eligible for VA health care can bring their veterans ID card to any doctor or care facility that accepts Medicare to get the care they need immediately the plan states\\n\\nThe power to choose will stop the wait time backlogs and force the VA to improve and compete if the department wants to keep receiving veterans healthcare dollars the plan says\\n\\nTrumps proposal would seemingly go further than the NonVA Medical Care Program which allows eligible veterans to access care outside of the VA under certain circumstances such as when VA medical centers cannot provide services The program requires preapproval for veterans to receive care at a nonVA facility in nonemergency situations\\n\\nTrumps proposal would also go further than the bipartisan Veterans Choice Act of 2014 that President Obama signed into law creating a temporary program separate from the NonVA Medical Care Program that allows eligible veterans to receive health care at a nonVA facility if they would have to wait more than 30 days for an appointment at a VA medical center or if they live more than 40 miles from the nearest VA hospital\\n\\nTrump stuck to the idea of allowing veterans to choose between public and private hospitals when he released his most recent Ten Point Plan To Reform The VA in July\\n\\nPoint 10 of the plan says Mr Trump will ensure every veteran has the choice to seek care at the VA or at a private service provider of their own choice Under a Trump Administration no veteran will die waiting for service\\n\\nTrump reinforced that part of his plan during the NBC News forum as well\\n\\nTo be clear Trump supports giving veterans a choice between VA hospitals and private ones Thats not the same thing as supporting the complete privatization of the system that provides care to veterans\\n\\nTrump criticized Clinton for making a terrible mistake on Libya when she was secretary of State But at the time Trump also supported US action that led to the removal of Moammar Gadhafi from power\\n\\nTrump made his claim in response to a question posed by Lauer on whether Trump will be prepared on Day One if elected president to tackle complex national security issues\\n\\nThis isnt the first time Trump has ignored his past support for the US intervention in Libya\\n\\nDuring the 10th GOP debate Trump said he had never discussed that subject when Sen Ted Cruz called him out on supporting US action in the country But as we wrote Trump said in 2011 that the US should go into Libya on a humanitarian basis and knock [Gadhafi] out very quickly very surgically very effectively and save the lives\\n\\nTrump made that comment in a video posted to his YouTube channel in February 2011\\n\\nEven though Trump now says Clintons support for intervention in Libya was a terrible mistake it doesnt change the fact that five years ago he supported Gadhafis removal\\n\\nTrump twisted Clintons words when he claimed Clinton said vets are being treated essentially just fine Clinton said the problems in the Department of Veterans Affairs were not as widespread as some Republican supporters of privatization of the VA claim but she went on to acknowledge problems in the VA system  including the issue of wait times for doctors  and what she would do to address them\\n\\nTrump highlighted the issue of wait times to see a doctor as one of the big problems in the VA and then suggested Clinton doesnt think the VA has problems\\n\\nLauer interrupted noting that Clinton went on after that and laid out a litany of problems within the VA\\n\\nTrump insisted his version was accurate adding Im telling you  she said she was satisfied with what was going on in the Veterans Administration\\n\\nThats not accurate The comments in question from Clinton came during an interview with MSNBCs Rachel Maddow on Oct 23 2015 Maddow asked about talk among some Republicans of abolishing the VA and privatizing it The reason they are able to propose something that radical is because the problems at the VA seem so intractable Maddow said\\n\\nMaddow asked if Clinton had any new ideas for trying to fix the VA Here was Clintons response with the part Trump is referring to in bold\\n\\nClinton accused Republicans of underfunding the VA because they want it to fail so they can privatize it\\n\\nClinton added But we have to be more creative about trying to fix the problems that are the legitimate concern so that we can try to stymie the Republican assault\\n\\nIndeed the Clinton campaign website states that Clinton wants to fundamentally reform veterans health care to ensure access to timely and high quality care The campaign says Clinton was outraged by the recent scandals at the VA and as president she will demand accountability and performance from VA leadership The site specifically mentions Clintons dissatisfaction that [m]any veterans have to wait an unacceptably long time to see a doctor or to process disability claims and appeals and promises she will [b]uild a 21stcentury Department of Veterans Affairs to deliver worldclass care\\n\\nTrump cherrypicked the part of Clintons response that said problems in the VA have not been as widespread as it has been made out to be to make the blanket claim that Clinton is satisfied with what was going on in the Veterans Administration and that vets are being treated essentially just fine But Trump is leaving out the parts of Clintons answer that acknowledged problems in the VA  including the wait time issue Trump highlighted as one of his biggest concerns'"
            ]
          },
          "metadata": {
            "tags": []
          },
          "execution_count": 12
        }
      ]
    },
    {
      "cell_type": "code",
      "metadata": {
        "id": "Am0xvBbJ1ikC"
      },
      "source": [
        "import nltk\n",
        "from nltk.corpus import stopwords"
      ],
      "execution_count": null,
      "outputs": []
    },
    {
      "cell_type": "code",
      "metadata": {
        "colab": {
          "base_uri": "https://localhost:8080/"
        },
        "id": "k9qqtHKfBmBZ",
        "outputId": "d7219621-a800-4961-b1e3-33b09705f131"
      },
      "source": [
        "nltk.download('stopwords')"
      ],
      "execution_count": null,
      "outputs": [
        {
          "output_type": "stream",
          "text": [
            "[nltk_data] Downloading package stopwords to /root/nltk_data...\n",
            "[nltk_data]   Unzipping corpora/stopwords.zip.\n"
          ],
          "name": "stdout"
        },
        {
          "output_type": "execute_result",
          "data": {
            "text/plain": [
              "True"
            ]
          },
          "metadata": {
            "tags": []
          },
          "execution_count": 14
        }
      ]
    },
    {
      "cell_type": "code",
      "metadata": {
        "id": "oql6bq1j1ig1"
      },
      "source": [
        "stop_words=set(stopwords.words('english'))"
      ],
      "execution_count": null,
      "outputs": []
    },
    {
      "cell_type": "code",
      "metadata": {
        "colab": {
          "base_uri": "https://localhost:8080/"
        },
        "id": "vgHP8C-g1ieC",
        "outputId": "13c3b33e-6c29-4607-e123-7c119714124b"
      },
      "source": [
        "data['text']=data['text'].apply(lambda x:' '.join([word for word in x.split() if word not in stop_words]))"
      ],
      "execution_count": null,
      "outputs": [
        {
          "output_type": "stream",
          "text": [
            "/usr/local/lib/python3.7/dist-packages/ipykernel_launcher.py:1: SettingWithCopyWarning: \n",
            "A value is trying to be set on a copy of a slice from a DataFrame.\n",
            "Try using .loc[row_indexer,col_indexer] = value instead\n",
            "\n",
            "See the caveats in the documentation: https://pandas.pydata.org/pandas-docs/stable/user_guide/indexing.html#returning-a-view-versus-a-copy\n",
            "  \"\"\"Entry point for launching an IPython kernel.\n"
          ],
          "name": "stderr"
        }
      ]
    },
    {
      "cell_type": "code",
      "metadata": {
        "colab": {
          "base_uri": "https://localhost:8080/",
          "height": 188
        },
        "id": "MtX2T6On1ibl",
        "outputId": "0d888870-7e03-423d-d19d-32db6cc91ddc"
      },
      "source": [
        "data['text'].iloc[8]"
      ],
      "execution_count": null,
      "outputs": [
        {
          "output_type": "execute_result",
          "data": {
            "application/vnd.google.colaboratory.intrinsic+json": {
              "type": "string"
            },
            "text/plain": [
              "'Hillary Clinton Donald Trump made inaccurate claims NBC commanderinchief forum military veterans issues Clinton wrongly claimed Trump supported war Iraq started Trump wrong saying war started Trump said President Obama set certain date withdrawing troops Iraq date set Obama sworn Trump said Obamas visits China Saudi Arabia Cuba first time history storied history Air Force One high officials host country appear greet president Not true Clinton said Trump supports privatizing Veterans Health Administration Thats false Trump said supports allowing veterans seek care either public private hospitals Trump said Clinton made terrible mistake Libya secretary State But time Trump also supported US action led removal Moammar Gadhafi power Trump cherrypicked Clintons words claimed Clinton said vets treated essentially fine Clinton said problems Department Veterans Affairs widespread Republicans claimed went acknowledge problems including issue wait times doctors The forum sponsored NBC News Iraq Afghanistan Veterans America held Sept 7 Intrepid Sea Air Space Museum New York City Today show host Matt Lauer members military veterans audience questioned candidates separately Trump said totally war Iraq Clinton claimed supported Iraq War started The facts dont support either candidates strong assertions Our review Trumps statements Iraq War started found evidence Trump opposed war started In fact expressed mild support invading Iraq asked Howard Stern radio show Sept 11 2002 six months war started Stern asked Trump supported war Iraq Trump responded Yeah I guess In NBC commander chief forum Trump cited Esquire article appeared August 2004 show opposition war But article appeared 17 months war started As Clinton senator voted October 2002 authorize war Iraq Democratic nominee claimed Trump supported happened supported happening record supporting happened But evidence Trump opposed Iraq War started Clinton campaign offered evidence Trump supported war happened The Clinton campaign cited Trumps interview March 21 2003 Neil Cavuto Fox Business two days war started Cavuto asked Trump impact war stock market Trump said war looks like tremendous success military standpoint predicted market go like rocket war But Cavuto ask Trump whether US gone war Iraq whether supports war Trump doesnt offer opinion As early July 2003 Trump expressed concern Hardball Chris Matthews money spent Iraq rather US Two months later Trump told MSNBCs Joe Scarborough I guess maybe I I would fought terrorism necessarily Iraq Clinton invited audience read Trumps comments Iraq War They read timeline Donald Trump Iraq War Trump said President Obama set certain date withdrawing troops Iraq date actually set President George W Bush NBCs Matt Lauer asked Trump tendency respond pushed details military proposals hes going give details wants unpredictable Trump responded Absolutely went criticize Obama revealing withdrawal date As said Republicans Democrats disagree whether Obama Bush blame withdrawing combat troops Iraq end 2011 But date set Bush signed Status Forces Agreement Dec 14 2008 It said All United States Forces shall withdraw Iraqi territory later December 31 2011 In NBC forum Trump also called withdrawal troops terrible decision As weve explained Condoleezza Rice Bushs secretary State later wrote Bush wanted agreement residual force remain Iraqi Prime Minister Nouri alMaliki objected Once Obama took office January 2009 three years renegotiate deal administration tried leave residual American troop force But Maliki still didnt agree Negotiations broke October 2011 issue whether US troops would shielded criminal prosecution Iraqi authorities Whether Obama enough matter opinion His defense secretary Leon Panetta later wrote president didnt press hard enough deal But experts say Iraq closely aligned time Iran wasnt deal made Maliki So presidents role withdrawal troops But Trump wrongly said Obama one set certain date withdrawal let US enemies know date set Obama sworn Its worth noting Trump said March 16 2007 interview CNN troops withdrawn quickly Iraq Trump said Obamas visits China Saudi Arabia Cuba first time history storied history Air Force One high officials host country appear greet president Thats true Other presidents encountered similar lowkey greetings foreign trips aboard presidential aircraft Trump referred fact Cubas president Raul Castro greet Obama airport historic visit Cuba March Saudi Arabias King Salman meet Air Force One start Obamas trip Riyadh April referred Chinas handling presidents arrival Hangzhou last Saturday Group 20 meeting Whether arrivals constituted snubs US president Trump claims matter debate But Trump wrong facts claims happened It In 1984 example Ronald Reagan landed Beijing received Chinas foreign minister rather president met later Similarly 1985 trip West Germany Reagan met foreign minister Chancellor Helmut Kohl These examples dug friend Glenn Kessler Washington Posts Fact Checker researched Trump claim April Cubas Saudi Arabias handling Obamas visits without precedent Kessler said Trump hes wrong wrong wrong Kessler also noted Richard Nixons historic 1972 visit China greeted airport countrys number two man Premier Zhou Enlai His boss Chairman Mao didnt even agree meet Nixon arrived guest house Clinton said plan overhaul Veterans Health Administration would include privatization said Trump supports But Trump refuted statement turn discuss plan help veterans I would Trump said referring Clintons claim supports privatization Trumps campaign published The Goals Of Donald J Trumps Veterans Plan website last October It doesnt call VA completely privatized One biggest changes plan would make current VA health care system allowing veterans get care nonVA medical center accepts Medicare Under Trump Administration veterans eligible VA health care bring veterans ID card doctor care facility accepts Medicare get care need immediately plan states The power choose stop wait time backlogs force VA improve compete department wants keep receiving veterans healthcare dollars plan says Trumps proposal would seemingly go NonVA Medical Care Program allows eligible veterans access care outside VA certain circumstances VA medical centers cannot provide services The program requires preapproval veterans receive care nonVA facility nonemergency situations Trumps proposal would also go bipartisan Veterans Choice Act 2014 President Obama signed law creating temporary program separate NonVA Medical Care Program allows eligible veterans receive health care nonVA facility would wait 30 days appointment VA medical center live 40 miles nearest VA hospital Trump stuck idea allowing veterans choose public private hospitals released recent Ten Point Plan To Reform The VA July Point 10 plan says Mr Trump ensure every veteran choice seek care VA private service provider choice Under Trump Administration veteran die waiting service Trump reinforced part plan NBC News forum well To clear Trump supports giving veterans choice VA hospitals private ones Thats thing supporting complete privatization system provides care veterans Trump criticized Clinton making terrible mistake Libya secretary State But time Trump also supported US action led removal Moammar Gadhafi power Trump made claim response question posed Lauer whether Trump prepared Day One elected president tackle complex national security issues This isnt first time Trump ignored past support US intervention Libya During 10th GOP debate Trump said never discussed subject Sen Ted Cruz called supporting US action country But wrote Trump said 2011 US go Libya humanitarian basis knock [Gadhafi] quickly surgically effectively save lives Trump made comment video posted YouTube channel February 2011 Even though Trump says Clintons support intervention Libya terrible mistake doesnt change fact five years ago supported Gadhafis removal Trump twisted Clintons words claimed Clinton said vets treated essentially fine Clinton said problems Department Veterans Affairs widespread Republican supporters privatization VA claim went acknowledge problems VA system including issue wait times doctors would address Trump highlighted issue wait times see doctor one big problems VA suggested Clinton doesnt think VA problems Lauer interrupted noting Clinton went laid litany problems within VA Trump insisted version accurate adding Im telling said satisfied going Veterans Administration Thats accurate The comments question Clinton came interview MSNBCs Rachel Maddow Oct 23 2015 Maddow asked talk among Republicans abolishing VA privatizing The reason able propose something radical problems VA seem intractable Maddow said Maddow asked Clinton new ideas trying fix VA Here Clintons response part Trump referring bold Clinton accused Republicans underfunding VA want fail privatize Clinton added But creative trying fix problems legitimate concern try stymie Republican assault Indeed Clinton campaign website states Clinton wants fundamentally reform veterans health care ensure access timely high quality care The campaign says Clinton outraged recent scandals VA president demand accountability performance VA leadership The site specifically mentions Clintons dissatisfaction [m]any veterans wait unacceptably long time see doctor process disability claims appeals promises [b]uild 21stcentury Department Veterans Affairs deliver worldclass care Trump cherrypicked part Clintons response said problems VA widespread made make blanket claim Clinton satisfied going Veterans Administration vets treated essentially fine But Trump leaving parts Clintons answer acknowledged problems VA including wait time issue Trump highlighted one biggest concerns'"
            ]
          },
          "metadata": {
            "tags": []
          },
          "execution_count": 17
        }
      ]
    },
    {
      "cell_type": "code",
      "metadata": {
        "id": "V1H0u5AJ1iZH"
      },
      "source": [
        "max_features=5000\n",
        "tokenizer=Tokenizer(num_words=max_features,split=' ')\n",
        "tokenizer.fit_on_texts(data['text'].values)"
      ],
      "execution_count": null,
      "outputs": []
    },
    {
      "cell_type": "code",
      "metadata": {
        "id": "iBYcxt9W1iWn"
      },
      "source": [
        "seq=tokenizer.texts_to_sequences(data['text'].values)"
      ],
      "execution_count": null,
      "outputs": []
    },
    {
      "cell_type": "code",
      "metadata": {
        "colab": {
          "base_uri": "https://localhost:8080/"
        },
        "id": "sgVRY7zn1iT7",
        "outputId": "d0260062-b249-4611-f59f-ec2612362825"
      },
      "source": [
        "seq[8]"
      ],
      "execution_count": null,
      "outputs": [
        {
          "output_type": "execute_result",
          "data": {
            "text/plain": [
              "[19,\n",
              " 5,\n",
              " 55,\n",
              " 3,\n",
              " 77,\n",
              " 700,\n",
              " 1903,\n",
              " 2431,\n",
              " 116,\n",
              " 1031,\n",
              " 231,\n",
              " 5,\n",
              " 843,\n",
              " 3,\n",
              " 1187,\n",
              " 64,\n",
              " 289,\n",
              " 636,\n",
              " 3,\n",
              " 615,\n",
              " 169,\n",
              " 64,\n",
              " 636,\n",
              " 3,\n",
              " 2,\n",
              " 15,\n",
              " 22,\n",
              " 333,\n",
              " 790,\n",
              " 1878,\n",
              " 911,\n",
              " 289,\n",
              " 1878,\n",
              " 333,\n",
              " 22,\n",
              " 4578,\n",
              " 3,\n",
              " 2,\n",
              " 264,\n",
              " 4338,\n",
              " 499,\n",
              " 724,\n",
              " 1275,\n",
              " 1638,\n",
              " 30,\n",
              " 24,\n",
              " 236,\n",
              " 236,\n",
              " 493,\n",
              " 317,\n",
              " 9,\n",
              " 322,\n",
              " 160,\n",
              " 1170,\n",
              " 62,\n",
              " 969,\n",
              " 15,\n",
              " 543,\n",
              " 415,\n",
              " 5,\n",
              " 2,\n",
              " 3,\n",
              " 2315,\n",
              " 1031,\n",
              " 202,\n",
              " 206,\n",
              " 95,\n",
              " 1093,\n",
              " 3,\n",
              " 2,\n",
              " 2315,\n",
              " 1773,\n",
              " 1031,\n",
              " 1481,\n",
              " 314,\n",
              " 419,\n",
              " 89,\n",
              " 327,\n",
              " 4272,\n",
              " 3,\n",
              " 2,\n",
              " 5,\n",
              " 77,\n",
              " 2432,\n",
              " 1849,\n",
              " 1148,\n",
              " 178,\n",
              " 13,\n",
              " 11,\n",
              " 24,\n",
              " 3,\n",
              " 14,\n",
              " 1187,\n",
              " 7,\n",
              " 424,\n",
              " 548,\n",
              " 4339,\n",
              " 124,\n",
              " 3,\n",
              " 84,\n",
              " 478,\n",
              " 843,\n",
              " 5,\n",
              " 2,\n",
              " 2304,\n",
              " 1653,\n",
              " 2132,\n",
              " 5,\n",
              " 2,\n",
              " 598,\n",
              " 144,\n",
              " 1031,\n",
              " 1312,\n",
              " 2789,\n",
              " 68,\n",
              " 843,\n",
              " 405,\n",
              " 3096,\n",
              " 598,\n",
              " 115,\n",
              " 207,\n",
              " 1470,\n",
              " 137,\n",
              " 1995,\n",
              " 1,\n",
              " 2431,\n",
              " 4511,\n",
              " 1903,\n",
              " 48,\n",
              " 289,\n",
              " 1276,\n",
              " 1031,\n",
              " 98,\n",
              " 520,\n",
              " 2738,\n",
              " 1008,\n",
              " 1566,\n",
              " 493,\n",
              " 1231,\n",
              " 10,\n",
              " 163,\n",
              " 249,\n",
              " 208,\n",
              " 221,\n",
              " 1170,\n",
              " 2252,\n",
              " 252,\n",
              " 116,\n",
              " 1031,\n",
              " 1310,\n",
              " 2497,\n",
              " 119,\n",
              " 3,\n",
              " 2,\n",
              " 1840,\n",
              " 64,\n",
              " 289,\n",
              " 5,\n",
              " 843,\n",
              " 1187,\n",
              " 289,\n",
              " 64,\n",
              " 636,\n",
              " 1,\n",
              " 1320,\n",
              " 45,\n",
              " 71,\n",
              " 419,\n",
              " 119,\n",
              " 457,\n",
              " 797,\n",
              " 972,\n",
              " 70,\n",
              " 1342,\n",
              " 289,\n",
              " 64,\n",
              " 636,\n",
              " 196,\n",
              " 321,\n",
              " 3,\n",
              " 1252,\n",
              " 64,\n",
              " 636,\n",
              " 12,\n",
              " 155,\n",
              " 1210,\n",
              " 71,\n",
              " 289,\n",
              " 228,\n",
              " 3413,\n",
              " 1153,\n",
              " 221,\n",
              " 2738,\n",
              " 640,\n",
              " 2873,\n",
              " 688,\n",
              " 260,\n",
              " 64,\n",
              " 636,\n",
              " 228,\n",
              " 3,\n",
              " 1187,\n",
              " 64,\n",
              " 289,\n",
              " 3,\n",
              " 1491,\n",
              " 3131,\n",
              " 4,\n",
              " 2316,\n",
              " 12,\n",
              " 1903,\n",
              " 2443,\n",
              " 503,\n",
              " 2431,\n",
              " 3,\n",
              " 1996,\n",
              " 500,\n",
              " 889,\n",
              " 1127,\n",
              " 2350,\n",
              " 221,\n",
              " 857,\n",
              " 64,\n",
              " 11,\n",
              " 500,\n",
              " 889,\n",
              " 1254,\n",
              " 260,\n",
              " 64,\n",
              " 636,\n",
              " 86,\n",
              " 5,\n",
              " 398,\n",
              " 839,\n",
              " 223,\n",
              " 2873,\n",
              " 64,\n",
              " 289,\n",
              " 56,\n",
              " 215,\n",
              " 843,\n",
              " 3,\n",
              " 1187,\n",
              " 604,\n",
              " 1187,\n",
              " 1305,\n",
              " 554,\n",
              " 961,\n",
              " 604,\n",
              " 11,\n",
              " 321,\n",
              " 3,\n",
              " 1252,\n",
              " 289,\n",
              " 64,\n",
              " 636,\n",
              " 5,\n",
              " 16,\n",
              " 1217,\n",
              " 321,\n",
              " 3,\n",
              " 1187,\n",
              " 64,\n",
              " 604,\n",
              " 1,\n",
              " 5,\n",
              " 16,\n",
              " 1996,\n",
              " 70,\n",
              " 395,\n",
              " 533,\n",
              " 1789,\n",
              " 2747,\n",
              " 288,\n",
              " 295,\n",
              " 31,\n",
              " 175,\n",
              " 64,\n",
              " 636,\n",
              " 228,\n",
              " 3,\n",
              " 1033,\n",
              " 64,\n",
              " 2203,\n",
              " 629,\n",
              " 3,\n",
              " 2,\n",
              " 64,\n",
              " 1103,\n",
              " 17,\n",
              " 3073,\n",
              " 1258,\n",
              " 116,\n",
              " 2507,\n",
              " 629,\n",
              " 101,\n",
              " 17,\n",
              " 64,\n",
              " 11,\n",
              " 775,\n",
              " 3,\n",
              " 128,\n",
              " 7,\n",
              " 1022,\n",
              " 64,\n",
              " 289,\n",
              " 128,\n",
              " 2315,\n",
              " 64,\n",
              " 3,\n",
              " 210,\n",
              " 1138,\n",
              " 907,\n",
              " 86,\n",
              " 242,\n",
              " 795,\n",
              " 2747,\n",
              " 3,\n",
              " 1210,\n",
              " 1294,\n",
              " 942,\n",
              " 147,\n",
              " 713,\n",
              " 289,\n",
              " 404,\n",
              " 7,\n",
              " 31,\n",
              " 260,\n",
              " 273,\n",
              " 3,\n",
              " 58,\n",
              " 1188,\n",
              " 4,\n",
              " 2316,\n",
              " 849,\n",
              " 4,\n",
              " 4,\n",
              " 6,\n",
              " 2619,\n",
              " 658,\n",
              " 2560,\n",
              " 289,\n",
              " 5,\n",
              " 2921,\n",
              " 1310,\n",
              " 531,\n",
              " 70,\n",
              " 456,\n",
              " 289,\n",
              " 64,\n",
              " 80,\n",
              " 531,\n",
              " 55,\n",
              " 3,\n",
              " 289,\n",
              " 64,\n",
              " 3,\n",
              " 2,\n",
              " 15,\n",
              " 22,\n",
              " 333,\n",
              " 790,\n",
              " 1878,\n",
              " 911,\n",
              " 289,\n",
              " 1878,\n",
              " 247,\n",
              " 333,\n",
              " 15,\n",
              " 466,\n",
              " 932,\n",
              " 107,\n",
              " 4237,\n",
              " 2252,\n",
              " 228,\n",
              " 3,\n",
              " 1561,\n",
              " 1562,\n",
              " 983,\n",
              " 116,\n",
              " 2325,\n",
              " 120,\n",
              " 41,\n",
              " 283,\n",
              " 983,\n",
              " 506,\n",
              " 4828,\n",
              " 3,\n",
              " 1491,\n",
              " 1418,\n",
              " 405,\n",
              " 4719,\n",
              " 22,\n",
              " 3944,\n",
              " 1878,\n",
              " 86,\n",
              " 2,\n",
              " 68,\n",
              " 100,\n",
              " 2995,\n",
              " 128,\n",
              " 22,\n",
              " 107,\n",
              " 1456,\n",
              " 1703,\n",
              " 911,\n",
              " 289,\n",
              " 164,\n",
              " 922,\n",
              " 11,\n",
              " 1878,\n",
              " 333,\n",
              " 107,\n",
              " 1343,\n",
              " 1128,\n",
              " 287,\n",
              " 573,\n",
              " 1099,\n",
              " 504,\n",
              " 26,\n",
              " 2,\n",
              " 495,\n",
              " 69,\n",
              " 18,\n",
              " 287,\n",
              " 2922,\n",
              " 4440,\n",
              " 1164,\n",
              " 1739,\n",
              " 273,\n",
              " 1190,\n",
              " 1615,\n",
              " 922,\n",
              " 12,\n",
              " 1903,\n",
              " 2431,\n",
              " 3,\n",
              " 14,\n",
              " 133,\n",
              " 911,\n",
              " 2432,\n",
              " 339,\n",
              " 86,\n",
              " 667,\n",
              " 1325,\n",
              " 3898,\n",
              " 1309,\n",
              " 178,\n",
              " 13,\n",
              " 273,\n",
              " 354,\n",
              " 107,\n",
              " 626,\n",
              " 573,\n",
              " 317,\n",
              " 893,\n",
              " 1164,\n",
              " 982,\n",
              " 576,\n",
              " 1894,\n",
              " 22,\n",
              " 270,\n",
              " 187,\n",
              " 917,\n",
              " 1379,\n",
              " 167,\n",
              " 33,\n",
              " 170,\n",
              " 206,\n",
              " 653,\n",
              " 584,\n",
              " 38,\n",
              " 317,\n",
              " 11,\n",
              " 83,\n",
              " 194,\n",
              " 1063,\n",
              " 1604,\n",
              " 1586,\n",
              " 223,\n",
              " 922,\n",
              " 207,\n",
              " 128,\n",
              " 7,\n",
              " 911,\n",
              " 6,\n",
              " 657,\n",
              " 4152,\n",
              " 1164,\n",
              " 729,\n",
              " 128,\n",
              " 22,\n",
              " 256,\n",
              " 326,\n",
              " 907,\n",
              " 363,\n",
              " 426,\n",
              " 178,\n",
              " 273,\n",
              " 354,\n",
              " 15,\n",
              " 194,\n",
              " 218,\n",
              " 392,\n",
              " 256,\n",
              " 170,\n",
              " 11,\n",
              " 999,\n",
              " 54,\n",
              " 289,\n",
              " 1908,\n",
              " 24,\n",
              " 205,\n",
              " 623,\n",
              " 170,\n",
              " 77,\n",
              " 143,\n",
              " 771,\n",
              " 488,\n",
              " 911,\n",
              " 11,\n",
              " 3,\n",
              " 2,\n",
              " 22,\n",
              " 9,\n",
              " 333,\n",
              " 790,\n",
              " 1878,\n",
              " 438,\n",
              " 7,\n",
              " 2055,\n",
              " 65,\n",
              " 1878,\n",
              " 333,\n",
              " 22,\n",
              " 4578,\n",
              " 74,\n",
              " 1090,\n",
              " 2292,\n",
              " 3,\n",
              " 2,\n",
              " 533,\n",
              " 1378,\n",
              " 1821,\n",
              " 395,\n",
              " 347,\n",
              " 911,\n",
              " 873,\n",
              " 289,\n",
              " 3,\n",
              " 2,\n",
              " 264,\n",
              " 4338,\n",
              " 499,\n",
              " 724,\n",
              " 1275,\n",
              " 1638,\n",
              " 30,\n",
              " 24,\n",
              " 236,\n",
              " 236,\n",
              " 493,\n",
              " 317,\n",
              " 9,\n",
              " 322,\n",
              " 160,\n",
              " 1170,\n",
              " 62,\n",
              " 969,\n",
              " 15,\n",
              " 95,\n",
              " 415,\n",
              " 1620,\n",
              " 771,\n",
              " 610,\n",
              " 138,\n",
              " 49,\n",
              " 1756,\n",
              " 3,\n",
              " 2371,\n",
              " 155,\n",
              " 15,\n",
              " 4956,\n",
              " 22,\n",
              " 2185,\n",
              " 1879,\n",
              " 1319,\n",
              " 1638,\n",
              " 533,\n",
              " 724,\n",
              " 1080,\n",
              " 1030,\n",
              " 493,\n",
              " 317,\n",
              " 9,\n",
              " 453,\n",
              " 264,\n",
              " 2120,\n",
              " 974,\n",
              " 2371,\n",
              " 3648,\n",
              " 2962,\n",
              " 771,\n",
              " 46,\n",
              " 669,\n",
              " 150,\n",
              " 534,\n",
              " 523,\n",
              " 128,\n",
              " 7,\n",
              " 15,\n",
              " 3,\n",
              " 700,\n",
              " 326,\n",
              " 114,\n",
              " 11,\n",
              " 3,\n",
              " 615,\n",
              " 1320,\n",
              " 700,\n",
              " 604,\n",
              " 26,\n",
              " 12,\n",
              " 472,\n",
              " 2413,\n",
              " 1409,\n",
              " 707,\n",
              " 3648,\n",
              " 138,\n",
              " 576,\n",
              " 404,\n",
              " 15,\n",
              " 1054,\n",
              " 273,\n",
              " 3238,\n",
              " 2120,\n",
              " 574,\n",
              " 1626,\n",
              " 1409,\n",
              " 1054,\n",
              " 138,\n",
              " 576,\n",
              " 463,\n",
              " 2712,\n",
              " 1390,\n",
              " 104,\n",
              " 1735,\n",
              " 155,\n",
              " 3,\n",
              " 602,\n",
              " 974,\n",
              " 724,\n",
              " 2962,\n",
              " 264,\n",
              " 4338,\n",
              " 168,\n",
              " 4546,\n",
              " 2,\n",
              " 3,\n",
              " 120,\n",
              " 615,\n",
              " 615,\n",
              " 615,\n",
              " 14,\n",
              " 824,\n",
              " 1595,\n",
              " 4656,\n",
              " 1879,\n",
              " 1319,\n",
              " 499,\n",
              " 2185,\n",
              " 1201,\n",
              " 245,\n",
              " 31,\n",
              " 193,\n",
              " 363,\n",
              " 3552,\n",
              " 727,\n",
              " 194,\n",
              " 25,\n",
              " 1063,\n",
              " 1030,\n",
              " 2509,\n",
              " 2157,\n",
              " 4058,\n",
              " 40,\n",
              " 5,\n",
              " 2,\n",
              " 299,\n",
              " 1031,\n",
              " 202,\n",
              " 206,\n",
              " 6,\n",
              " 902,\n",
              " 2,\n",
              " 3,\n",
              " 2315,\n",
              " 11,\n",
              " 3,\n",
              " 292,\n",
              " 532,\n",
              " 1697,\n",
              " 299,\n",
              " 179,\n",
              " 1031,\n",
              " 4,\n",
              " 6,\n",
              " 3,\n",
              " 2,\n",
              " 1909,\n",
              " 84,\n",
              " 602,\n",
              " 2315,\n",
              " 70,\n",
              " 16,\n",
              " 698,\n",
              " 1,\n",
              " 2510,\n",
              " 508,\n",
              " 55,\n",
              " 1799,\n",
              " 70,\n",
              " 1031,\n",
              " 299,\n",
              " 1171,\n",
              " 46,\n",
              " 223,\n",
              " 26,\n",
              " 210,\n",
              " 301,\n",
              " 2143,\n",
              " 1088,\n",
              " 9,\n",
              " 863,\n",
              " 990,\n",
              " 299,\n",
              " 6,\n",
              " 47,\n",
              " 491,\n",
              " 2143,\n",
              " 202,\n",
              " 314,\n",
              " 149,\n",
              " 1773,\n",
              " 1031,\n",
              " 37,\n",
              " 314,\n",
              " 1017,\n",
              " 400,\n",
              " 3007,\n",
              " 1929,\n",
              " 3,\n",
              " 206,\n",
              " 1031,\n",
              " 3216,\n",
              " 2143,\n",
              " 202,\n",
              " 314,\n",
              " 630,\n",
              " 1031,\n",
              " 1425,\n",
              " 2842,\n",
              " 3319,\n",
              " 314,\n",
              " 3381,\n",
              " 3007,\n",
              " 37,\n",
              " 314,\n",
              " 113,\n",
              " 945,\n",
              " 299,\n",
              " 18,\n",
              " 1,\n",
              " 124,\n",
              " 1502,\n",
              " 376,\n",
              " 1470,\n",
              " 24,\n",
              " 317,\n",
              " 2143,\n",
              " 2215,\n",
              " 4340,\n",
              " 144,\n",
              " 506,\n",
              " 272,\n",
              " 3048,\n",
              " 1031,\n",
              " 1912,\n",
              " 880,\n",
              " 299,\n",
              " 90,\n",
              " 70,\n",
              " 1757,\n",
              " 6,\n",
              " 2810,\n",
              " 101,\n",
              " 1017,\n",
              " 314,\n",
              " 379,\n",
              " 2189,\n",
              " 3216,\n",
              " 1031,\n",
              " 570,\n",
              " 314,\n",
              " 502,\n",
              " 2143,\n",
              " 790,\n",
              " 2276,\n",
              " 2143,\n",
              " 1017,\n",
              " 3110,\n",
              " 528,\n",
              " 802,\n",
              " 1064,\n",
              " 1,\n",
              " 379,\n",
              " 2233,\n",
              " 1031,\n",
              " 1535,\n",
              " 314,\n",
              " 3381,\n",
              " 4512,\n",
              " 70,\n",
              " 1757,\n",
              " 6,\n",
              " 14,\n",
              " 101,\n",
              " 2227,\n",
              " 1031,\n",
              " 689,\n",
              " 274,\n",
              " 471,\n",
              " 15,\n",
              " 22,\n",
              " 1343,\n",
              " 93,\n",
              " 1764,\n",
              " 3365,\n",
              " 379,\n",
              " 1523,\n",
              " 1017,\n",
              " 314,\n",
              " 379,\n",
              " 2189,\n",
              " 3216,\n",
              " 1031,\n",
              " 1535,\n",
              " 202,\n",
              " 314,\n",
              " 3381,\n",
              " 6,\n",
              " 1470,\n",
              " 674,\n",
              " 175,\n",
              " 4791,\n",
              " 2143,\n",
              " 1017,\n",
              " 400,\n",
              " 486,\n",
              " 1062,\n",
              " 1489,\n",
              " 2143,\n",
              " 2081,\n",
              " 3,\n",
              " 3172,\n",
              " 416,\n",
              " 1773,\n",
              " 1031,\n",
              " 1502,\n",
              " 89,\n",
              " 327,\n",
              " 4272,\n",
              " 451,\n",
              " 186,\n",
              " 2701,\n",
              " 177,\n",
              " 299,\n",
              " 212,\n",
              " 768,\n",
              " 1,\n",
              " 2143,\n",
              " 795,\n",
              " 177,\n",
              " 340,\n",
              " 299,\n",
              " 90,\n",
              " 337,\n",
              " 3,\n",
              " 1439,\n",
              " 106,\n",
              " 2037,\n",
              " 689,\n",
              " 1481,\n",
              " 314,\n",
              " 2143,\n",
              " 327,\n",
              " 560,\n",
              " 689,\n",
              " 1929,\n",
              " 3,\n",
              " 206,\n",
              " 2037,\n",
              " 2310,\n",
              " 1665,\n",
              " 560,\n",
              " 3,\n",
              " 102,\n",
              " 299,\n",
              " 1903,\n",
              " 48,\n",
              " 2431,\n",
              " 63,\n",
              " 212,\n",
              " 226,\n",
              " 3,\n",
              " 2315,\n",
              " 888,\n",
              " 1031,\n",
              " 689,\n",
              " 2143,\n",
              " 4272,\n",
              " 327,\n",
              " 840,\n",
              " 95,\n",
              " 271,\n",
              " 961,\n",
              " 1443,\n",
              " 149,\n",
              " 2127,\n",
              " 314,\n",
              " 1031,\n",
              " 3,\n",
              " 2044,\n",
              " 5,\n",
              " 294,\n",
              " 2432,\n",
              " 1849,\n",
              " 1148,\n",
              " 178,\n",
              " 13,\n",
              " 11,\n",
              " 24,\n",
              " 3,\n",
              " 14,\n",
              " 1187,\n",
              " 7,\n",
              " 424,\n",
              " 548,\n",
              " 4339,\n",
              " 124,\n",
              " 3,\n",
              " 77,\n",
              " 602,\n",
              " 591,\n",
              " 244,\n",
              " 3690,\n",
              " 128,\n",
              " 3,\n",
              " 1790,\n",
              " 88,\n",
              " 9,\n",
              " 569,\n",
              " 15,\n",
              " 1722,\n",
              " 72,\n",
              " 108,\n",
              " 231,\n",
              " 28,\n",
              " 362,\n",
              " 30,\n",
              " 24,\n",
              " 3,\n",
              " 2351,\n",
              " 188,\n",
              " 71,\n",
              " 7,\n",
              " 2253,\n",
              " 1148,\n",
              " 1132,\n",
              " 110,\n",
              " 114,\n",
              " 3,\n",
              " 2,\n",
              " 109,\n",
              " 2004,\n",
              " 1202,\n",
              " 257,\n",
              " 618,\n",
              " 103,\n",
              " 133,\n",
              " 961,\n",
              " 7,\n",
              " 424,\n",
              " 62,\n",
              " 11,\n",
              " 354,\n",
              " 3,\n",
              " 2,\n",
              " 922,\n",
              " 7,\n",
              " ...]"
            ]
          },
          "metadata": {
            "tags": []
          },
          "execution_count": 20
        }
      ]
    },
    {
      "cell_type": "code",
      "metadata": {
        "colab": {
          "base_uri": "https://localhost:8080/"
        },
        "id": "BV_A92sX1iRQ",
        "outputId": "501d1bf7-37d7-443f-ff74-171f705bfc60"
      },
      "source": [
        "print('length =',len(seq[8]))\n"
      ],
      "execution_count": null,
      "outputs": [
        {
          "output_type": "stream",
          "text": [
            "length = 1251\n"
          ],
          "name": "stdout"
        }
      ]
    },
    {
      "cell_type": "code",
      "metadata": {
        "id": "YxBg7i26CBW7"
      },
      "source": [
        "seq=pad_sequences(seq)"
      ],
      "execution_count": null,
      "outputs": []
    },
    {
      "cell_type": "code",
      "metadata": {
        "colab": {
          "base_uri": "https://localhost:8080/"
        },
        "id": "sjGUUH1kCBT0",
        "outputId": "7bdbd0f5-0a56-4c35-db7f-66a3f46c8216"
      },
      "source": [
        "print(seq[8])\n",
        "print('length ',len(seq[8]))"
      ],
      "execution_count": null,
      "outputs": [
        {
          "output_type": "stream",
          "text": [
            "[  0   0   0 ...   9 863 900]\n",
            "length  9615\n"
          ],
          "name": "stdout"
        }
      ]
    },
    {
      "cell_type": "code",
      "metadata": {
        "colab": {
          "base_uri": "https://localhost:8080/"
        },
        "id": "q5D3j5lxCBRg",
        "outputId": "3dd623d6-7631-43b4-b853-f11f2cb6fbaa"
      },
      "source": [
        "seq.shape"
      ],
      "execution_count": null,
      "outputs": [
        {
          "output_type": "execute_result",
          "data": {
            "text/plain": [
              "(6335, 9615)"
            ]
          },
          "metadata": {
            "tags": []
          },
          "execution_count": 24
        }
      ]
    },
    {
      "cell_type": "code",
      "metadata": {
        "id": "iylis3sxCBOM"
      },
      "source": [
        "y=pd.get_dummies(data['label'],drop_first=True).values"
      ],
      "execution_count": null,
      "outputs": []
    },
    {
      "cell_type": "code",
      "metadata": {
        "id": "zWBLUSWZCL-o"
      },
      "source": [
        "x_train,x_test,y_train,y_test=train_test_split(seq,y,test_size=0.2)"
      ],
      "execution_count": null,
      "outputs": []
    },
    {
      "cell_type": "code",
      "metadata": {
        "colab": {
          "base_uri": "https://localhost:8080/"
        },
        "id": "8jNpg1eUCL70",
        "outputId": "4d6fdc46-911e-4607-8a1a-e44cb3735689"
      },
      "source": [
        "print('x_train:',x_train.shape,'x_test:',x_test.shape)\n",
        "print('y_train:',y_train.shape,'y_test:',y_test.shape)"
      ],
      "execution_count": null,
      "outputs": [
        {
          "output_type": "stream",
          "text": [
            "x_train: (5068, 9615) x_test: (1267, 9615)\n",
            "y_train: (5068, 1) y_test: (1267, 1)\n"
          ],
          "name": "stdout"
        }
      ]
    },
    {
      "cell_type": "code",
      "metadata": {
        "id": "IAxfRnd6CL5G"
      },
      "source": [
        "embed_dimentions=128"
      ],
      "execution_count": null,
      "outputs": []
    },
    {
      "cell_type": "code",
      "metadata": {
        "colab": {
          "base_uri": "https://localhost:8080/"
        },
        "id": "LktNI7N5CBLs",
        "outputId": "80214e76-4ec3-40ac-a265-35f625298d6f"
      },
      "source": [
        "model=Sequential()\n",
        "model.add(Embedding(max_features,embed_dimentions,input_length=seq.shape[1]))\n",
        "model.add(LSTM(128,dropout=0.2,recurrent_dropout=0.2))\n",
        "model.add(Dense(1,activation='sigmoid'))"
      ],
      "execution_count": null,
      "outputs": [
        {
          "output_type": "stream",
          "text": [
            "WARNING:tensorflow:Layer lstm will not use cuDNN kernel since it doesn't meet the cuDNN kernel criteria. It will use generic GPU kernel as fallback when running on GPU\n"
          ],
          "name": "stdout"
        }
      ]
    },
    {
      "cell_type": "code",
      "metadata": {
        "colab": {
          "base_uri": "https://localhost:8080/"
        },
        "id": "Q2NpRq0_CBIy",
        "outputId": "6737a7d1-9374-4829-98dc-0c735f0dbb9a"
      },
      "source": [
        "model.summary()"
      ],
      "execution_count": null,
      "outputs": [
        {
          "output_type": "stream",
          "text": [
            "Model: \"sequential\"\n",
            "_________________________________________________________________\n",
            "Layer (type)                 Output Shape              Param #   \n",
            "=================================================================\n",
            "embedding (Embedding)        (None, 9615, 128)         640000    \n",
            "_________________________________________________________________\n",
            "lstm (LSTM)                  (None, 128)               131584    \n",
            "_________________________________________________________________\n",
            "dense (Dense)                (None, 1)                 129       \n",
            "=================================================================\n",
            "Total params: 771,713\n",
            "Trainable params: 771,713\n",
            "Non-trainable params: 0\n",
            "_________________________________________________________________\n"
          ],
          "name": "stdout"
        }
      ]
    },
    {
      "cell_type": "code",
      "metadata": {
        "id": "3H9j_OgoHhc4"
      },
      "source": [
        "#run_opts = tf.compat.v1.RunOptions(report_tensor_allocations_upon_oom = True)"
      ],
      "execution_count": null,
      "outputs": []
    },
    {
      "cell_type": "code",
      "metadata": {
        "id": "4WmoJzJYCBF7"
      },
      "source": [
        "model.compile(optimizer='adam',loss='binary_crossentropy',metrics=['accuracy'])"
      ],
      "execution_count": null,
      "outputs": []
    },
    {
      "cell_type": "code",
      "metadata": {
        "colab": {
          "base_uri": "https://localhost:8080/"
        },
        "id": "0uK1W8lxCBC1",
        "outputId": "c53e7dd2-ced2-4346-88ae-f9485c8f98f1"
      },
      "source": [
        "model.fit(x_train,y_train,validation_data=(x_test,y_test),batch_size=64,epochs=5)"
      ],
      "execution_count": null,
      "outputs": [
        {
          "output_type": "stream",
          "text": [
            "Epoch 1/5\n",
            "80/80 [==============================] - 3309s 41s/step - loss: 0.5977 - accuracy: 0.6797 - val_loss: 0.2855 - val_accuracy: 0.8895\n",
            "Epoch 2/5\n",
            "80/80 [==============================] - 3171s 40s/step - loss: 0.4866 - accuracy: 0.8338 - val_loss: 0.4358 - val_accuracy: 0.8287\n",
            "Epoch 3/5\n",
            "80/80 [==============================] - 3254s 41s/step - loss: 0.2542 - accuracy: 0.9264 - val_loss: 0.2826 - val_accuracy: 0.8856\n",
            "Epoch 4/5\n",
            "80/80 [==============================] - 3299s 41s/step - loss: 0.1384 - accuracy: 0.9539 - val_loss: 0.2764 - val_accuracy: 0.8966\n",
            "Epoch 5/5\n",
            "80/80 [==============================] - 3269s 41s/step - loss: 0.1301 - accuracy: 0.9556 - val_loss: 0.3579 - val_accuracy: 0.8895\n"
          ],
          "name": "stdout"
        },
        {
          "output_type": "execute_result",
          "data": {
            "text/plain": [
              "<tensorflow.python.keras.callbacks.History at 0x7fd99e4e8bd0>"
            ]
          },
          "metadata": {
            "tags": []
          },
          "execution_count": 33
        }
      ]
    },
    {
      "cell_type": "code",
      "metadata": {
        "id": "dGAITd6ZGcKg"
      },
      "source": [
        ""
      ],
      "execution_count": null,
      "outputs": []
    },
    {
      "cell_type": "code",
      "metadata": {
        "id": "9N8pD_YeO6yv"
      },
      "source": [
        "model.save('news.h5')"
      ],
      "execution_count": null,
      "outputs": []
    },
    {
      "cell_type": "code",
      "metadata": {
        "id": "T53U4R9nQmLC"
      },
      "source": [
        ""
      ],
      "execution_count": null,
      "outputs": []
    },
    {
      "cell_type": "code",
      "metadata": {
        "id": "gDn-TU8UQmIY"
      },
      "source": [
        ""
      ],
      "execution_count": null,
      "outputs": []
    },
    {
      "cell_type": "code",
      "metadata": {
        "id": "dOQ5wUyAQmFr"
      },
      "source": [
        ""
      ],
      "execution_count": null,
      "outputs": []
    },
    {
      "cell_type": "code",
      "metadata": {
        "id": "XRIc41hsQmDC"
      },
      "source": [
        ""
      ],
      "execution_count": null,
      "outputs": []
    },
    {
      "cell_type": "code",
      "metadata": {
        "id": "7MWOaSASQmAZ"
      },
      "source": [
        ""
      ],
      "execution_count": null,
      "outputs": []
    },
    {
      "cell_type": "code",
      "metadata": {
        "id": "-WONvxF6PDhJ"
      },
      "source": [
        ""
      ],
      "execution_count": null,
      "outputs": []
    }
  ]
}